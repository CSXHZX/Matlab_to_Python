{
 "cells": [
  {
   "cell_type": "markdown",
   "metadata": {
    "deletable": true,
    "editable": true
   },
   "source": [
    "__References__: \n",
    "\n",
    "    [1] - A departure-function approach to calculate thermodynamics properties of refrigerant-oil mixture, \n",
    "    Moisés A. Marcelino Neto, Jader R. Barbosa Jr., International Journal of Refrigeration, 36, (2013), 972-979 \n",
    "    [2] - Applied Hydrocarbon Thermodynamics, Volume 1, Wayne C. Edmister, Byung Ik Lee, 2nd edition, 1984"
   ]
  },
  {
   "cell_type": "code",
   "execution_count": 1,
   "metadata": {
    "collapsed": false,
    "deletable": true,
    "editable": true
   },
   "outputs": [],
   "source": [
    "import numpy as np\n",
    "from scipy.constants import R as Rgi"
   ]
  },
  {
   "cell_type": "code",
   "execution_count": 2,
   "metadata": {
    "collapsed": false,
    "deletable": true,
    "editable": true
   },
   "outputs": [],
   "source": [
    "class PengRobinson():\n",
    "    '''Peng-Robinson's cubic EOS instantiation class for a N-component mixture. \n",
    "    \n",
    "      \n",
    "    Parameters\n",
    "    ----------\n",
    "    T : float or int\n",
    "        fluid temperature (K)\n",
    "    p : float or int\n",
    "        fluid pressure (Pa)\n",
    "    Tc : array-like\n",
    "        critical temperature (K)\n",
    "    pc : array-like\n",
    "        critical pressure (Pa)\n",
    "    xm : array-like\n",
    "        molar fraction (-)\n",
    "    M : array-like\n",
    "        molar mass (kg/kmol)\n",
    "    omega : array-like\n",
    "        acentric factor\n",
    "    \n",
    "    Attributes: the name \"Parameters\", name used to represent the variables declared above, changes to \"Attributes\"\n",
    "                when they goes into Class. Here, in this example, we have 10 attributes.\n",
    "    ----------\n",
    "    T : float or int\n",
    "        fluid temperature (K)\n",
    "    p : float or int\n",
    "        fluid pressure (Pa)\n",
    "    Tc : array-like\n",
    "        critical temperature (K)\n",
    "    pc : array-like\n",
    "        critical pressure (Pa)\n",
    "    xm : array-like\n",
    "        molar fraction (-)\n",
    "    M : array-like\n",
    "        molar mass (kg/kmol)\n",
    "    omega : array-like\n",
    "        acentric factor (?)\n",
    "    Tr : array-like\n",
    "        reduced temperature (-)\n",
    "    pr : array-like\n",
    "        reduced pressure (-)\n",
    "    N : int\n",
    "        number of mixture components\n",
    "    \n",
    "    Methods\n",
    "    -------\n",
    "    *********TO DO************\n",
    "    '''\n",
    "    def __init__(self, T, p, Tc, pc, xm, M, omega,k):\n",
    "        self.T = T\n",
    "        self.p = p\n",
    "        self.Tc = np.array(Tc)\n",
    "        self.pc = np.array(pc)\n",
    "        self.xm = np.array(xm)\n",
    "        self.M = np.array(M)\n",
    "        self.omega = np.array(omega)\n",
    "        self.k = np.array(k)\n",
    "        self.Tr = T / self.Tc\n",
    "        self.pr = p / self.pc\n",
    "        self.N = self.Tc.shape[0]  #contou nº linhas na array; se fosse ...shape[1] seria nº colunas\n",
    "    \n",
    "    \n",
    "    def kappa_pr(self):\n",
    "        omega = self.omega\n",
    "        return 0.37464 + 1.54226 * omega - 0.26993 * omega ** 2 \n",
    "          \n",
    "    def alpha_pr(self):\n",
    "        kappa = self.kappa_pr()\n",
    "        Tr = self.Tr\n",
    "        return (1 + kappa * (1 - Tr ** 0.5)) ** 2\n",
    "    \n",
    "    def ai_pr(self):\n",
    "        alpha = self.alpha_pr()\n",
    "        Tc = self.Tc\n",
    "        pc = self.pc\n",
    "        return 0.45723553 * alpha * ( Rgi ** 2 * Tc ** 2 ) / pc\n",
    "    \n",
    "    def a_pr(self):\n",
    "        '''Lacks documentation,\n",
    "        sofisticated methods'''\n",
    "        xm = self.xm\n",
    "        ai = self.ai_pr()\n",
    "        k =  self.k               \n",
    "        aij = np.einsum('i,j->ij', ai, ai)** 0.5 * (1 - k)\n",
    "        return np.sum(np.einsum('i,j->ij', xm, xm)* aij)\n",
    "    \n",
    "    def A_pr(self):\n",
    "        a = self.a_pr()\n",
    "        p = self.p\n",
    "        T = self.T\n",
    "        return (a * p) / (Rgi **2 * T **2)\n",
    "           \n",
    "    def bi_pr(self):\n",
    "        Tc = self.Tc\n",
    "        pc = self.pc\n",
    "        return 0.07779607 * ( Rgi * Tc ) / pc\n",
    "    \n",
    "    def b_pr(self):\n",
    "        xm = self.xm\n",
    "        bi = self.bi_pr()\n",
    "        return np.dot(xm, bi)\n",
    "    \n",
    "    def B_pr(self):\n",
    "        b = self.b_pr()\n",
    "        p = self.p\n",
    "        T = self.T\n",
    "        return (b * p) / (Rgi * T)\n",
    "    \n",
    "    def Z_coefs(self):\n",
    "        A = self.A_pr()\n",
    "        B = self.B_pr()\n",
    "        return(1, -( 1 - B ),\n",
    "               (A - 3 * B ** 2 - 2 * B),\n",
    "               -( A * B - B ** 2 - B ** 3 ))   \n",
    "    \n"
   ]
  },
  {
   "cell_type": "markdown",
   "metadata": {},
   "source": [
    "### A class TakingCorrectRoots \"erda\" os atributos da PengRobinson class + \"phase\". "
   ]
  },
  {
   "cell_type": "code",
   "execution_count": 3,
   "metadata": {
    "collapsed": true
   },
   "outputs": [],
   "source": [
    "class TakingCorrectRoots(PengRobinson):\n",
    "    \n",
    "    def __init__(self, T, p, Tc, pc, xm, M, omega,k,phase):\n",
    "        PengRobinson.__init__(self, T, p, Tc, pc, xm, M, omega,k)\n",
    "        self.phase = phase\n",
    "    \n",
    "        \n",
    "    def __call__(self):\n",
    "        coefs = self.Z_coefs() #olha como chamar um método de outra classe que tem vários outros métodos\n",
    "        roots = np.roots(coefs)\n",
    "        real_roots = roots[roots.imag == 0]\n",
    "        physical_roots = real_roots[real_roots >= 0]\n",
    "        phase = self.phase\n",
    "        phase = phase.upper()\n",
    "        if phase == 'L':\n",
    "            return physical_roots.min()\n",
    "        elif phase == 'V':\n",
    "            return physical_roots.max()\n",
    "        else:\n",
    "            return ValueError('phase must be either L or V')\n",
    "        \n",
    "        \n",
    "    "
   ]
  },
  {
   "cell_type": "code",
   "execution_count": 4,
   "metadata": {
    "collapsed": false
   },
   "outputs": [],
   "source": [
    "class Phi(TakingCorrectRoots):\n",
    "    def __init__(self,T, p, Tc, pc, xm, M, omega,k,phase):\n",
    "        TakingCorrectRoots.__init__(self, T, p, Tc, pc, xm, M, omega,k,phase)\n",
    "        self.Z = TakingCorrectRoots(T, p, Tc, pc, xm, M, omega,k,phase)\n",
    "    \n",
    "        \n",
    "    def __call__(self): \n",
    "        ai = self.ai_pr()\n",
    "        bi = self.bi_pr()\n",
    "        a = self.a_pr()\n",
    "        b = self.b_pr()\n",
    "        A = self.A_pr()\n",
    "        B = self.B_pr()\n",
    "        k = np.array([0,0,0,0])\n",
    "        xm = self.xm\n",
    "        sub_1 = xm * np.sqrt(ai)\n",
    "        sub_2 = 1 - k\n",
    "        soma = sub_1[:, None] * sub_2\n",
    "        soma2 = soma.ravel()[::self.N].reshape((self.N,self.N)).sum(axis=0)\n",
    "        Aiprime = (1 / a) * 2 * np.sqrt(ai) * soma2\n",
    "        Biprime = bi / b\n",
    "        Z = self.Z()\n",
    "        term1 = np.log(Z-B)\n",
    "        term2 = (Z-1) * Biprime\n",
    "        term3 = A / (2 ** 1.5 * B)\n",
    "        term4 = Aiprime - Biprime\n",
    "        term5 = np.log( (Z + (2**0.5 + 1) * B) / (Z - (2**0.5 -1) * B) )\n",
    "        term = -term1 + term2 - term3*term5*term4\n",
    "        phi = np.exp(term)\n",
    "        return phi        \n",
    "    \n",
    "    "
   ]
  },
  {
   "cell_type": "markdown",
   "metadata": {},
   "source": [
    "__Comentário__\n",
    "\n",
    ">>> A class Phi erda da class TakingCorrectRoots. Observe como foi diferente chamar o método de uma class que só tem um método, o método \\__call__. Veja as diferenças para chamar e posições:\n",
    "\n",
    "(1ª) coefs = self.Z_coefs() que foi o método chamado da Class PengRobinson (que tem vários métodos)\n",
    "\n",
    "(2ª) self.Z = TakingCorrectRoots(T, p, Tc, pc, xm, M, omega,k,phase) que foi o método \\__call__ da Class TakingCorrectRoots"
   ]
  },
  {
   "cell_type": "code",
   "execution_count": null,
   "metadata": {
    "collapsed": true
   },
   "outputs": [],
   "source": []
  },
  {
   "cell_type": "markdown",
   "metadata": {
    "deletable": true,
    "editable": true
   },
   "source": [
    "__Input data__"
   ]
  },
  {
   "cell_type": "code",
   "execution_count": 11,
   "metadata": {
    "collapsed": false,
    "deletable": true,
    "editable": true
   },
   "outputs": [],
   "source": [
    "T = 100\n",
    "p = 0.4119E+6\n",
    "Tc = [126.1, 190.6]\n",
    "pc = [3.394E+6, 4.604E+6]\n",
    "M = [28, 16]\n",
    "omega = [0.04, 0.011]\n",
    "xm = [0.958, 1-0.958]\n",
    "k = [[0.0,0.0],[0.0,0.0]]  #binary interaction parameter; I have set zero initially\n"
   ]
  },
  {
   "cell_type": "markdown",
   "metadata": {
    "deletable": true,
    "editable": true
   },
   "source": [
    "__Instancing the Class__"
   ]
  },
  {
   "cell_type": "code",
   "execution_count": 12,
   "metadata": {
    "collapsed": false,
    "deletable": true,
    "editable": true
   },
   "outputs": [],
   "source": [
    "pr = PengRobinson(T,p,Tc,pc,xm,M,omega,k)\n",
    "Z_v = TakingCorrectRoots(T,p,Tc,pc,xm,M,omega,k,'V')\n",
    "Z_l = TakingCorrectRoots(T,p,Tc,pc,xm,M,omega,k,'V')\n",
    "phi_v = Phi(T,p,Tc,pc,xm,M,omega,k,'V')\n",
    "phi_l = Phi(T,p,Tc,pc,xm,M,omega,k,'L')"
   ]
  },
  {
   "cell_type": "markdown",
   "metadata": {
    "deletable": true,
    "editable": true
   },
   "source": [
    "__Testing__"
   ]
  },
  {
   "cell_type": "code",
   "execution_count": 13,
   "metadata": {
    "collapsed": false,
    "deletable": true,
    "editable": true
   },
   "outputs": [
    {
     "name": "stdout",
     "output_type": "stream",
     "text": [
      "[ 0.79302141  0.52465897] [ 0.12136123  0.08946568]\n"
     ]
    }
   ],
   "source": [
    "print(pr.Tr, pr.pr)"
   ]
  },
  {
   "cell_type": "code",
   "execution_count": 14,
   "metadata": {
    "collapsed": false,
    "deletable": true,
    "editable": true
   },
   "outputs": [
    {
     "name": "stdout",
     "output_type": "stream",
     "text": [
      "[ 0.04   0.011]\n"
     ]
    }
   ],
   "source": [
    "fatorAcentrico = pr.omega\n",
    "print(fatorAcentrico)"
   ]
  },
  {
   "cell_type": "code",
   "execution_count": 15,
   "metadata": {
    "collapsed": false
   },
   "outputs": [
    {
     "name": "stdout",
     "output_type": "stream",
     "text": [
      "0.905911525621 0.905911525621\n"
     ]
    }
   ],
   "source": [
    "print(Z_v(), Z_l())"
   ]
  },
  {
   "cell_type": "code",
   "execution_count": 16,
   "metadata": {
    "collapsed": false
   },
   "outputs": [
    {
     "name": "stdout",
     "output_type": "stream",
     "text": [
      "[ 0.91615978  0.84729268] [ 1.57283683  0.13703829]\n"
     ]
    }
   ],
   "source": [
    "print(phi_v(), phi_l())"
   ]
  },
  {
   "cell_type": "code",
   "execution_count": null,
   "metadata": {
    "collapsed": true
   },
   "outputs": [],
   "source": []
  },
  {
   "cell_type": "code",
   "execution_count": null,
   "metadata": {
    "collapsed": true
   },
   "outputs": [],
   "source": []
  }
 ],
 "metadata": {
  "kernelspec": {
   "display_name": "Python 3",
   "language": "python",
   "name": "python3"
  },
  "language_info": {
   "codemirror_mode": {
    "name": "ipython",
    "version": 3
   },
   "file_extension": ".py",
   "mimetype": "text/x-python",
   "name": "python",
   "nbconvert_exporter": "python",
   "pygments_lexer": "ipython3",
   "version": "3.6.0"
  }
 },
 "nbformat": 4,
 "nbformat_minor": 2
}
